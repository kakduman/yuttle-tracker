{
 "cells": [
  {
   "cell_type": "code",
   "execution_count": 10,
   "metadata": {},
   "outputs": [],
   "source": [
    "from utils.load_dataset import load_dataset, read_compressed_data\n",
    "\n",
    "data = load_dataset()\n",
    "\n",
    "# data_2 = read_compressed_data(\"data/processed_data/arrival_data/bus_1_38.json.gz\")\n"
   ]
  },
  {
   "cell_type": "code",
   "execution_count": 11,
   "metadata": {},
   "outputs": [
    {
     "name": "stdout",
     "output_type": "stream",
     "text": [
      "[[0.00414518376965307, 0.026042013301566348, 0.9996608492599883, 106, 0.00016, 4, {10: 0.04427, 2: 0.0461, 5: 0.04794, 52: 0.04824, 41: 0.05252, 20: 0.05313, 108: 0.05435, 106: 0.002, 34: 0.00443, 101: 0.00534, 47: 0.00625, 100: 0.00807, 102: 0.00928, 105: 0.01081, 69: 0.01415, 139: 0.01446, 136: 0.01538, 130: 0.01598, 129: 0.0166, 140: 0.01782, 133: 0.01964, 135: 0.02055, 138: 0.02146, 97: 0.02329, 66: 0.0242, 63: 0.02572, 42: 0.02754, 98: 0.02997, 38: 0.03028, 39: 0.03301, 72: 0.03481, 43: 0.03968}], [0.00414518376965307, 0.026042013301566348, 0.9996608492599883, 106, 0.00016, 4, {10: 0.04427, 2: 0.0461, 5: 0.04794, 52: 0.04824, 41: 0.05252, 20: 0.05313, 108: 0.05435, 106: 0.002, 34: 0.00443, 101: 0.00534, 47: 0.00625, 100: 0.00807, 102: 0.00928, 105: 0.01081, 69: 0.01415, 139: 0.01446, 136: 0.01538, 130: 0.01598, 129: 0.0166, 140: 0.01782, 133: 0.01964, 135: 0.02055, 138: 0.02146, 97: 0.02329, 66: 0.0242, 63: 0.02572, 42: 0.02754, 98: 0.02997, 38: 0.03028, 39: 0.03301, 72: 0.03481, 43: 0.03968}], [0.00414518376965307, 0.026042013301566348, 0.9996608492599883, 106, 0.00016, 4, {10: 0.04427, 2: 0.0461, 5: 0.04794, 52: 0.04824, 41: 0.05252, 20: 0.05313, 108: 0.05435, 106: 0.002, 34: 0.00443, 101: 0.00534, 47: 0.00625, 100: 0.00807, 102: 0.00928, 105: 0.01081, 69: 0.01415, 139: 0.01446, 136: 0.01538, 130: 0.01598, 129: 0.0166, 140: 0.01782, 133: 0.01964, 135: 0.02055, 138: 0.02146, 97: 0.02329, 66: 0.0242, 63: 0.02572, 42: 0.02754, 98: 0.02997, 38: 0.03028, 39: 0.03301, 72: 0.03481, 43: 0.03968}], [0.00414518376965307, 0.026042013301566348, 0.9996608492599883, 106, 0.00016, 4, {10: 0.04427, 2: 0.0461, 5: 0.04794, 52: 0.04824, 41: 0.05252, 20: 0.05313, 108: 0.05435, 106: 0.002, 34: 0.00443, 101: 0.00534, 47: 0.00625, 100: 0.00807, 102: 0.00928, 105: 0.01081, 69: 0.01415, 139: 0.01446, 136: 0.01538, 130: 0.01598, 129: 0.0166, 140: 0.01782, 133: 0.01964, 135: 0.02055, 138: 0.02146, 97: 0.02329, 66: 0.0242, 63: 0.02572, 42: 0.02754, 98: 0.02997, 38: 0.03028, 39: 0.03301, 72: 0.03481, 43: 0.03968}], [0.00414518376965307, 0.026042013301566348, 0.9996608492599883, 106, 0.00016, 4, {10: 0.04427, 2: 0.0461, 5: 0.04794, 52: 0.04824, 41: 0.05252, 20: 0.05313, 108: 0.05435, 106: 0.002, 34: 0.00443, 101: 0.00534, 47: 0.00625, 100: 0.00807, 102: 0.00928, 105: 0.01081, 69: 0.01415, 139: 0.01446, 136: 0.01538, 130: 0.01598, 129: 0.0166, 140: 0.01782, 133: 0.01964, 135: 0.02055, 138: 0.02146, 97: 0.02329, 66: 0.0242, 63: 0.02572, 42: 0.02754, 98: 0.02997, 38: 0.03028, 39: 0.03301, 72: 0.03481, 43: 0.03968}]]\n"
     ]
    }
   ],
   "source": [
    "print(data[:5])"
   ]
  },
  {
   "cell_type": "code",
   "execution_count": 12,
   "metadata": {},
   "outputs": [
    {
     "data": {
      "text/plain": [
       "4047296"
      ]
     },
     "execution_count": 12,
     "metadata": {},
     "output_type": "execute_result"
    }
   ],
   "source": [
    "len(data)"
   ]
  },
  {
   "cell_type": "code",
   "execution_count": 13,
   "metadata": {},
   "outputs": [
    {
     "name": "stdout",
     "output_type": "stream",
     "text": [
      "Mean Squared Error: 0.001356048487154398\n"
     ]
    }
   ],
   "source": [
    "import numpy as np\n",
    "from sklearn.linear_model import LinearRegression\n",
    "from sklearn.multioutput import MultiOutputRegressor\n",
    "from sklearn.model_selection import train_test_split\n",
    "from sklearn.metrics import mean_squared_error\n",
    "\n",
    "# Preparing the input and output data\n",
    "X = []\n",
    "Y = []\n",
    "\n",
    "for entry in data:\n",
    "    try:\n",
    "        features = entry[:6]\n",
    "        targets = [entry[6][stop] for stop in entry[6]]\n",
    "        X.append(features)\n",
    "        Y.append(targets)\n",
    "    except Exception as e:\n",
    "        print(e)\n",
    "        print(entry)\n",
    "\n",
    "X = np.array(X)\n",
    "Y = np.array(Y)\n",
    "\n",
    "# Splitting data into training and test sets\n",
    "X_train, X_test, y_train, y_test = train_test_split(X, Y, test_size=0.2, random_state=42)\n",
    "\n",
    "# Model definition and training\n",
    "model = MultiOutputRegressor(LinearRegression())\n",
    "model.fit(X_train, y_train)\n",
    "\n",
    "# Prediction and performance evaluation\n",
    "y_pred = model.predict(X_test)\n",
    "mse = mean_squared_error(y_test, y_pred)\n",
    "print(f\"Mean Squared Error: {mse}\")\n",
    "\n",
    "# Mean Squared Error: 0.0001758471745821059\n",
    "# Mean Squared Error: 0.0007756456728488785"
   ]
  },
  {
   "cell_type": "code",
   "execution_count": 4,
   "metadata": {},
   "outputs": [
    {
     "ename": "ValueError",
     "evalue": "Input contains NaN.",
     "output_type": "error",
     "traceback": [
      "\u001b[0;31m---------------------------------------------------------------------------\u001b[0m",
      "\u001b[0;31mValueError\u001b[0m                                Traceback (most recent call last)",
      "Cell \u001b[0;32mIn[4], line 29\u001b[0m\n\u001b[1;32m     27\u001b[0m \u001b[38;5;66;03m# Model definition and training\u001b[39;00m\n\u001b[1;32m     28\u001b[0m model \u001b[38;5;241m=\u001b[39m MultiOutputRegressor(LinearRegression())\n\u001b[0;32m---> 29\u001b[0m \u001b[43mmodel\u001b[49m\u001b[38;5;241;43m.\u001b[39;49m\u001b[43mfit\u001b[49m\u001b[43m(\u001b[49m\u001b[43mX_train\u001b[49m\u001b[43m,\u001b[49m\u001b[43m \u001b[49m\u001b[43my_train\u001b[49m\u001b[43m)\u001b[49m\n\u001b[1;32m     31\u001b[0m \u001b[38;5;66;03m# Prediction and performance evaluation\u001b[39;00m\n\u001b[1;32m     32\u001b[0m y_pred \u001b[38;5;241m=\u001b[39m model\u001b[38;5;241m.\u001b[39mpredict(X_test)\n",
      "File \u001b[0;32m~/Documents/GitHub/yuttle-tracker/.venv/lib/python3.10/site-packages/sklearn/base.py:1474\u001b[0m, in \u001b[0;36m_fit_context.<locals>.decorator.<locals>.wrapper\u001b[0;34m(estimator, *args, **kwargs)\u001b[0m\n\u001b[1;32m   1467\u001b[0m     estimator\u001b[38;5;241m.\u001b[39m_validate_params()\n\u001b[1;32m   1469\u001b[0m \u001b[38;5;28;01mwith\u001b[39;00m config_context(\n\u001b[1;32m   1470\u001b[0m     skip_parameter_validation\u001b[38;5;241m=\u001b[39m(\n\u001b[1;32m   1471\u001b[0m         prefer_skip_nested_validation \u001b[38;5;129;01mor\u001b[39;00m global_skip_validation\n\u001b[1;32m   1472\u001b[0m     )\n\u001b[1;32m   1473\u001b[0m ):\n\u001b[0;32m-> 1474\u001b[0m     \u001b[38;5;28;01mreturn\u001b[39;00m \u001b[43mfit_method\u001b[49m\u001b[43m(\u001b[49m\u001b[43mestimator\u001b[49m\u001b[43m,\u001b[49m\u001b[43m \u001b[49m\u001b[38;5;241;43m*\u001b[39;49m\u001b[43margs\u001b[49m\u001b[43m,\u001b[49m\u001b[43m \u001b[49m\u001b[38;5;241;43m*\u001b[39;49m\u001b[38;5;241;43m*\u001b[39;49m\u001b[43mkwargs\u001b[49m\u001b[43m)\u001b[49m\n",
      "File \u001b[0;32m~/Documents/GitHub/yuttle-tracker/.venv/lib/python3.10/site-packages/sklearn/multioutput.py:272\u001b[0m, in \u001b[0;36m_MultiOutputEstimator.fit\u001b[0;34m(self, X, y, sample_weight, **fit_params)\u001b[0m\n\u001b[1;32m    269\u001b[0m     \u001b[38;5;28;01mif\u001b[39;00m sample_weight \u001b[38;5;129;01mis\u001b[39;00m \u001b[38;5;129;01mnot\u001b[39;00m \u001b[38;5;28;01mNone\u001b[39;00m:\n\u001b[1;32m    270\u001b[0m         routed_params\u001b[38;5;241m.\u001b[39mestimator\u001b[38;5;241m.\u001b[39mfit[\u001b[38;5;124m\"\u001b[39m\u001b[38;5;124msample_weight\u001b[39m\u001b[38;5;124m\"\u001b[39m] \u001b[38;5;241m=\u001b[39m sample_weight\n\u001b[0;32m--> 272\u001b[0m \u001b[38;5;28mself\u001b[39m\u001b[38;5;241m.\u001b[39mestimators_ \u001b[38;5;241m=\u001b[39m \u001b[43mParallel\u001b[49m\u001b[43m(\u001b[49m\u001b[43mn_jobs\u001b[49m\u001b[38;5;241;43m=\u001b[39;49m\u001b[38;5;28;43mself\u001b[39;49m\u001b[38;5;241;43m.\u001b[39;49m\u001b[43mn_jobs\u001b[49m\u001b[43m)\u001b[49m\u001b[43m(\u001b[49m\n\u001b[1;32m    273\u001b[0m \u001b[43m    \u001b[49m\u001b[43mdelayed\u001b[49m\u001b[43m(\u001b[49m\u001b[43m_fit_estimator\u001b[49m\u001b[43m)\u001b[49m\u001b[43m(\u001b[49m\n\u001b[1;32m    274\u001b[0m \u001b[43m        \u001b[49m\u001b[38;5;28;43mself\u001b[39;49m\u001b[38;5;241;43m.\u001b[39;49m\u001b[43mestimator\u001b[49m\u001b[43m,\u001b[49m\u001b[43m \u001b[49m\u001b[43mX\u001b[49m\u001b[43m,\u001b[49m\u001b[43m \u001b[49m\u001b[43my\u001b[49m\u001b[43m[\u001b[49m\u001b[43m:\u001b[49m\u001b[43m,\u001b[49m\u001b[43m \u001b[49m\u001b[43mi\u001b[49m\u001b[43m]\u001b[49m\u001b[43m,\u001b[49m\u001b[43m \u001b[49m\u001b[38;5;241;43m*\u001b[39;49m\u001b[38;5;241;43m*\u001b[39;49m\u001b[43mrouted_params\u001b[49m\u001b[38;5;241;43m.\u001b[39;49m\u001b[43mestimator\u001b[49m\u001b[38;5;241;43m.\u001b[39;49m\u001b[43mfit\u001b[49m\n\u001b[1;32m    275\u001b[0m \u001b[43m    \u001b[49m\u001b[43m)\u001b[49m\n\u001b[1;32m    276\u001b[0m \u001b[43m    \u001b[49m\u001b[38;5;28;43;01mfor\u001b[39;49;00m\u001b[43m \u001b[49m\u001b[43mi\u001b[49m\u001b[43m \u001b[49m\u001b[38;5;129;43;01min\u001b[39;49;00m\u001b[43m \u001b[49m\u001b[38;5;28;43mrange\u001b[39;49m\u001b[43m(\u001b[49m\u001b[43my\u001b[49m\u001b[38;5;241;43m.\u001b[39;49m\u001b[43mshape\u001b[49m\u001b[43m[\u001b[49m\u001b[38;5;241;43m1\u001b[39;49m\u001b[43m]\u001b[49m\u001b[43m)\u001b[49m\n\u001b[1;32m    277\u001b[0m \u001b[43m\u001b[49m\u001b[43m)\u001b[49m\n\u001b[1;32m    279\u001b[0m \u001b[38;5;28;01mif\u001b[39;00m \u001b[38;5;28mhasattr\u001b[39m(\u001b[38;5;28mself\u001b[39m\u001b[38;5;241m.\u001b[39mestimators_[\u001b[38;5;241m0\u001b[39m], \u001b[38;5;124m\"\u001b[39m\u001b[38;5;124mn_features_in_\u001b[39m\u001b[38;5;124m\"\u001b[39m):\n\u001b[1;32m    280\u001b[0m     \u001b[38;5;28mself\u001b[39m\u001b[38;5;241m.\u001b[39mn_features_in_ \u001b[38;5;241m=\u001b[39m \u001b[38;5;28mself\u001b[39m\u001b[38;5;241m.\u001b[39mestimators_[\u001b[38;5;241m0\u001b[39m]\u001b[38;5;241m.\u001b[39mn_features_in_\n",
      "File \u001b[0;32m~/Documents/GitHub/yuttle-tracker/.venv/lib/python3.10/site-packages/sklearn/utils/parallel.py:67\u001b[0m, in \u001b[0;36mParallel.__call__\u001b[0;34m(self, iterable)\u001b[0m\n\u001b[1;32m     62\u001b[0m config \u001b[38;5;241m=\u001b[39m get_config()\n\u001b[1;32m     63\u001b[0m iterable_with_config \u001b[38;5;241m=\u001b[39m (\n\u001b[1;32m     64\u001b[0m     (_with_config(delayed_func, config), args, kwargs)\n\u001b[1;32m     65\u001b[0m     \u001b[38;5;28;01mfor\u001b[39;00m delayed_func, args, kwargs \u001b[38;5;129;01min\u001b[39;00m iterable\n\u001b[1;32m     66\u001b[0m )\n\u001b[0;32m---> 67\u001b[0m \u001b[38;5;28;01mreturn\u001b[39;00m \u001b[38;5;28;43msuper\u001b[39;49m\u001b[43m(\u001b[49m\u001b[43m)\u001b[49m\u001b[38;5;241;43m.\u001b[39;49m\u001b[38;5;21;43m__call__\u001b[39;49m\u001b[43m(\u001b[49m\u001b[43miterable_with_config\u001b[49m\u001b[43m)\u001b[49m\n",
      "File \u001b[0;32m~/Documents/GitHub/yuttle-tracker/.venv/lib/python3.10/site-packages/joblib/parallel.py:1918\u001b[0m, in \u001b[0;36mParallel.__call__\u001b[0;34m(self, iterable)\u001b[0m\n\u001b[1;32m   1916\u001b[0m     output \u001b[38;5;241m=\u001b[39m \u001b[38;5;28mself\u001b[39m\u001b[38;5;241m.\u001b[39m_get_sequential_output(iterable)\n\u001b[1;32m   1917\u001b[0m     \u001b[38;5;28mnext\u001b[39m(output)\n\u001b[0;32m-> 1918\u001b[0m     \u001b[38;5;28;01mreturn\u001b[39;00m output \u001b[38;5;28;01mif\u001b[39;00m \u001b[38;5;28mself\u001b[39m\u001b[38;5;241m.\u001b[39mreturn_generator \u001b[38;5;28;01melse\u001b[39;00m \u001b[38;5;28;43mlist\u001b[39;49m\u001b[43m(\u001b[49m\u001b[43moutput\u001b[49m\u001b[43m)\u001b[49m\n\u001b[1;32m   1920\u001b[0m \u001b[38;5;66;03m# Let's create an ID that uniquely identifies the current call. If the\u001b[39;00m\n\u001b[1;32m   1921\u001b[0m \u001b[38;5;66;03m# call is interrupted early and that the same instance is immediately\u001b[39;00m\n\u001b[1;32m   1922\u001b[0m \u001b[38;5;66;03m# re-used, this id will be used to prevent workers that were\u001b[39;00m\n\u001b[1;32m   1923\u001b[0m \u001b[38;5;66;03m# concurrently finalizing a task from the previous call to run the\u001b[39;00m\n\u001b[1;32m   1924\u001b[0m \u001b[38;5;66;03m# callback.\u001b[39;00m\n\u001b[1;32m   1925\u001b[0m \u001b[38;5;28;01mwith\u001b[39;00m \u001b[38;5;28mself\u001b[39m\u001b[38;5;241m.\u001b[39m_lock:\n",
      "File \u001b[0;32m~/Documents/GitHub/yuttle-tracker/.venv/lib/python3.10/site-packages/joblib/parallel.py:1847\u001b[0m, in \u001b[0;36mParallel._get_sequential_output\u001b[0;34m(self, iterable)\u001b[0m\n\u001b[1;32m   1845\u001b[0m \u001b[38;5;28mself\u001b[39m\u001b[38;5;241m.\u001b[39mn_dispatched_batches \u001b[38;5;241m+\u001b[39m\u001b[38;5;241m=\u001b[39m \u001b[38;5;241m1\u001b[39m\n\u001b[1;32m   1846\u001b[0m \u001b[38;5;28mself\u001b[39m\u001b[38;5;241m.\u001b[39mn_dispatched_tasks \u001b[38;5;241m+\u001b[39m\u001b[38;5;241m=\u001b[39m \u001b[38;5;241m1\u001b[39m\n\u001b[0;32m-> 1847\u001b[0m res \u001b[38;5;241m=\u001b[39m \u001b[43mfunc\u001b[49m\u001b[43m(\u001b[49m\u001b[38;5;241;43m*\u001b[39;49m\u001b[43margs\u001b[49m\u001b[43m,\u001b[49m\u001b[43m \u001b[49m\u001b[38;5;241;43m*\u001b[39;49m\u001b[38;5;241;43m*\u001b[39;49m\u001b[43mkwargs\u001b[49m\u001b[43m)\u001b[49m\n\u001b[1;32m   1848\u001b[0m \u001b[38;5;28mself\u001b[39m\u001b[38;5;241m.\u001b[39mn_completed_tasks \u001b[38;5;241m+\u001b[39m\u001b[38;5;241m=\u001b[39m \u001b[38;5;241m1\u001b[39m\n\u001b[1;32m   1849\u001b[0m \u001b[38;5;28mself\u001b[39m\u001b[38;5;241m.\u001b[39mprint_progress()\n",
      "File \u001b[0;32m~/Documents/GitHub/yuttle-tracker/.venv/lib/python3.10/site-packages/sklearn/utils/parallel.py:129\u001b[0m, in \u001b[0;36m_FuncWrapper.__call__\u001b[0;34m(self, *args, **kwargs)\u001b[0m\n\u001b[1;32m    127\u001b[0m     config \u001b[38;5;241m=\u001b[39m {}\n\u001b[1;32m    128\u001b[0m \u001b[38;5;28;01mwith\u001b[39;00m config_context(\u001b[38;5;241m*\u001b[39m\u001b[38;5;241m*\u001b[39mconfig):\n\u001b[0;32m--> 129\u001b[0m     \u001b[38;5;28;01mreturn\u001b[39;00m \u001b[38;5;28;43mself\u001b[39;49m\u001b[38;5;241;43m.\u001b[39;49m\u001b[43mfunction\u001b[49m\u001b[43m(\u001b[49m\u001b[38;5;241;43m*\u001b[39;49m\u001b[43margs\u001b[49m\u001b[43m,\u001b[49m\u001b[43m \u001b[49m\u001b[38;5;241;43m*\u001b[39;49m\u001b[38;5;241;43m*\u001b[39;49m\u001b[43mkwargs\u001b[49m\u001b[43m)\u001b[49m\n",
      "File \u001b[0;32m~/Documents/GitHub/yuttle-tracker/.venv/lib/python3.10/site-packages/sklearn/multioutput.py:61\u001b[0m, in \u001b[0;36m_fit_estimator\u001b[0;34m(estimator, X, y, sample_weight, **fit_params)\u001b[0m\n\u001b[1;32m     59\u001b[0m     estimator\u001b[38;5;241m.\u001b[39mfit(X, y, sample_weight\u001b[38;5;241m=\u001b[39msample_weight, \u001b[38;5;241m*\u001b[39m\u001b[38;5;241m*\u001b[39mfit_params)\n\u001b[1;32m     60\u001b[0m \u001b[38;5;28;01melse\u001b[39;00m:\n\u001b[0;32m---> 61\u001b[0m     \u001b[43mestimator\u001b[49m\u001b[38;5;241;43m.\u001b[39;49m\u001b[43mfit\u001b[49m\u001b[43m(\u001b[49m\u001b[43mX\u001b[49m\u001b[43m,\u001b[49m\u001b[43m \u001b[49m\u001b[43my\u001b[49m\u001b[43m,\u001b[49m\u001b[43m \u001b[49m\u001b[38;5;241;43m*\u001b[39;49m\u001b[38;5;241;43m*\u001b[39;49m\u001b[43mfit_params\u001b[49m\u001b[43m)\u001b[49m\n\u001b[1;32m     62\u001b[0m \u001b[38;5;28;01mreturn\u001b[39;00m estimator\n",
      "File \u001b[0;32m~/Documents/GitHub/yuttle-tracker/.venv/lib/python3.10/site-packages/sklearn/base.py:1474\u001b[0m, in \u001b[0;36m_fit_context.<locals>.decorator.<locals>.wrapper\u001b[0;34m(estimator, *args, **kwargs)\u001b[0m\n\u001b[1;32m   1467\u001b[0m     estimator\u001b[38;5;241m.\u001b[39m_validate_params()\n\u001b[1;32m   1469\u001b[0m \u001b[38;5;28;01mwith\u001b[39;00m config_context(\n\u001b[1;32m   1470\u001b[0m     skip_parameter_validation\u001b[38;5;241m=\u001b[39m(\n\u001b[1;32m   1471\u001b[0m         prefer_skip_nested_validation \u001b[38;5;129;01mor\u001b[39;00m global_skip_validation\n\u001b[1;32m   1472\u001b[0m     )\n\u001b[1;32m   1473\u001b[0m ):\n\u001b[0;32m-> 1474\u001b[0m     \u001b[38;5;28;01mreturn\u001b[39;00m \u001b[43mfit_method\u001b[49m\u001b[43m(\u001b[49m\u001b[43mestimator\u001b[49m\u001b[43m,\u001b[49m\u001b[43m \u001b[49m\u001b[38;5;241;43m*\u001b[39;49m\u001b[43margs\u001b[49m\u001b[43m,\u001b[49m\u001b[43m \u001b[49m\u001b[38;5;241;43m*\u001b[39;49m\u001b[38;5;241;43m*\u001b[39;49m\u001b[43mkwargs\u001b[49m\u001b[43m)\u001b[49m\n",
      "File \u001b[0;32m~/Documents/GitHub/yuttle-tracker/.venv/lib/python3.10/site-packages/sklearn/linear_model/_base.py:593\u001b[0m, in \u001b[0;36mLinearRegression.fit\u001b[0;34m(self, X, y, sample_weight)\u001b[0m\n\u001b[1;32m    588\u001b[0m \u001b[38;5;66;03m# Note that neither _rescale_data nor the rest of the fit method of\u001b[39;00m\n\u001b[1;32m    589\u001b[0m \u001b[38;5;66;03m# LinearRegression can benefit from in-place operations when X is a\u001b[39;00m\n\u001b[1;32m    590\u001b[0m \u001b[38;5;66;03m# sparse matrix. Therefore, let's not copy X when it is sparse.\u001b[39;00m\n\u001b[1;32m    591\u001b[0m copy_X_in_preprocess_data \u001b[38;5;241m=\u001b[39m \u001b[38;5;28mself\u001b[39m\u001b[38;5;241m.\u001b[39mcopy_X \u001b[38;5;129;01mand\u001b[39;00m \u001b[38;5;129;01mnot\u001b[39;00m sp\u001b[38;5;241m.\u001b[39missparse(X)\n\u001b[0;32m--> 593\u001b[0m X, y, X_offset, y_offset, X_scale \u001b[38;5;241m=\u001b[39m \u001b[43m_preprocess_data\u001b[49m\u001b[43m(\u001b[49m\n\u001b[1;32m    594\u001b[0m \u001b[43m    \u001b[49m\u001b[43mX\u001b[49m\u001b[43m,\u001b[49m\n\u001b[1;32m    595\u001b[0m \u001b[43m    \u001b[49m\u001b[43my\u001b[49m\u001b[43m,\u001b[49m\n\u001b[1;32m    596\u001b[0m \u001b[43m    \u001b[49m\u001b[43mfit_intercept\u001b[49m\u001b[38;5;241;43m=\u001b[39;49m\u001b[38;5;28;43mself\u001b[39;49m\u001b[38;5;241;43m.\u001b[39;49m\u001b[43mfit_intercept\u001b[49m\u001b[43m,\u001b[49m\n\u001b[1;32m    597\u001b[0m \u001b[43m    \u001b[49m\u001b[43mcopy\u001b[49m\u001b[38;5;241;43m=\u001b[39;49m\u001b[43mcopy_X_in_preprocess_data\u001b[49m\u001b[43m,\u001b[49m\n\u001b[1;32m    598\u001b[0m \u001b[43m    \u001b[49m\u001b[43msample_weight\u001b[49m\u001b[38;5;241;43m=\u001b[39;49m\u001b[43msample_weight\u001b[49m\u001b[43m,\u001b[49m\n\u001b[1;32m    599\u001b[0m \u001b[43m\u001b[49m\u001b[43m)\u001b[49m\n\u001b[1;32m    601\u001b[0m \u001b[38;5;28;01mif\u001b[39;00m has_sw:\n\u001b[1;32m    602\u001b[0m     \u001b[38;5;66;03m# Sample weight can be implemented via a simple rescaling. Note\u001b[39;00m\n\u001b[1;32m    603\u001b[0m     \u001b[38;5;66;03m# that we safely do inplace rescaling when _preprocess_data has\u001b[39;00m\n\u001b[1;32m    604\u001b[0m     \u001b[38;5;66;03m# already made a copy if requested.\u001b[39;00m\n\u001b[1;32m    605\u001b[0m     X, y, sample_weight_sqrt \u001b[38;5;241m=\u001b[39m _rescale_data(\n\u001b[1;32m    606\u001b[0m         X, y, sample_weight, inplace\u001b[38;5;241m=\u001b[39mcopy_X_in_preprocess_data\n\u001b[1;32m    607\u001b[0m     )\n",
      "File \u001b[0;32m~/Documents/GitHub/yuttle-tracker/.venv/lib/python3.10/site-packages/sklearn/linear_model/_base.py:165\u001b[0m, in \u001b[0;36m_preprocess_data\u001b[0;34m(X, y, fit_intercept, copy, copy_y, sample_weight, check_input)\u001b[0m\n\u001b[1;32m    163\u001b[0m \u001b[38;5;28;01mif\u001b[39;00m check_input:\n\u001b[1;32m    164\u001b[0m     X \u001b[38;5;241m=\u001b[39m check_array(X, copy\u001b[38;5;241m=\u001b[39mcopy, accept_sparse\u001b[38;5;241m=\u001b[39m[\u001b[38;5;124m\"\u001b[39m\u001b[38;5;124mcsr\u001b[39m\u001b[38;5;124m\"\u001b[39m, \u001b[38;5;124m\"\u001b[39m\u001b[38;5;124mcsc\u001b[39m\u001b[38;5;124m\"\u001b[39m], dtype\u001b[38;5;241m=\u001b[39mFLOAT_DTYPES)\n\u001b[0;32m--> 165\u001b[0m     y \u001b[38;5;241m=\u001b[39m \u001b[43mcheck_array\u001b[49m\u001b[43m(\u001b[49m\u001b[43my\u001b[49m\u001b[43m,\u001b[49m\u001b[43m \u001b[49m\u001b[43mdtype\u001b[49m\u001b[38;5;241;43m=\u001b[39;49m\u001b[43mX\u001b[49m\u001b[38;5;241;43m.\u001b[39;49m\u001b[43mdtype\u001b[49m\u001b[43m,\u001b[49m\u001b[43m \u001b[49m\u001b[43mcopy\u001b[49m\u001b[38;5;241;43m=\u001b[39;49m\u001b[43mcopy_y\u001b[49m\u001b[43m,\u001b[49m\u001b[43m \u001b[49m\u001b[43mensure_2d\u001b[49m\u001b[38;5;241;43m=\u001b[39;49m\u001b[38;5;28;43;01mFalse\u001b[39;49;00m\u001b[43m)\u001b[49m\n\u001b[1;32m    166\u001b[0m \u001b[38;5;28;01melse\u001b[39;00m:\n\u001b[1;32m    167\u001b[0m     y \u001b[38;5;241m=\u001b[39m y\u001b[38;5;241m.\u001b[39mastype(X\u001b[38;5;241m.\u001b[39mdtype, copy\u001b[38;5;241m=\u001b[39mcopy_y)\n",
      "File \u001b[0;32m~/Documents/GitHub/yuttle-tracker/.venv/lib/python3.10/site-packages/sklearn/utils/validation.py:1049\u001b[0m, in \u001b[0;36mcheck_array\u001b[0;34m(array, accept_sparse, accept_large_sparse, dtype, order, copy, force_all_finite, ensure_2d, allow_nd, ensure_min_samples, ensure_min_features, estimator, input_name)\u001b[0m\n\u001b[1;32m   1043\u001b[0m     \u001b[38;5;28;01mraise\u001b[39;00m \u001b[38;5;167;01mValueError\u001b[39;00m(\n\u001b[1;32m   1044\u001b[0m         \u001b[38;5;124m\"\u001b[39m\u001b[38;5;124mFound array with dim \u001b[39m\u001b[38;5;132;01m%d\u001b[39;00m\u001b[38;5;124m. \u001b[39m\u001b[38;5;132;01m%s\u001b[39;00m\u001b[38;5;124m expected <= 2.\u001b[39m\u001b[38;5;124m\"\u001b[39m\n\u001b[1;32m   1045\u001b[0m         \u001b[38;5;241m%\u001b[39m (array\u001b[38;5;241m.\u001b[39mndim, estimator_name)\n\u001b[1;32m   1046\u001b[0m     )\n\u001b[1;32m   1048\u001b[0m \u001b[38;5;28;01mif\u001b[39;00m force_all_finite:\n\u001b[0;32m-> 1049\u001b[0m     \u001b[43m_assert_all_finite\u001b[49m\u001b[43m(\u001b[49m\n\u001b[1;32m   1050\u001b[0m \u001b[43m        \u001b[49m\u001b[43marray\u001b[49m\u001b[43m,\u001b[49m\n\u001b[1;32m   1051\u001b[0m \u001b[43m        \u001b[49m\u001b[43minput_name\u001b[49m\u001b[38;5;241;43m=\u001b[39;49m\u001b[43minput_name\u001b[49m\u001b[43m,\u001b[49m\n\u001b[1;32m   1052\u001b[0m \u001b[43m        \u001b[49m\u001b[43mestimator_name\u001b[49m\u001b[38;5;241;43m=\u001b[39;49m\u001b[43mestimator_name\u001b[49m\u001b[43m,\u001b[49m\n\u001b[1;32m   1053\u001b[0m \u001b[43m        \u001b[49m\u001b[43mallow_nan\u001b[49m\u001b[38;5;241;43m=\u001b[39;49m\u001b[43mforce_all_finite\u001b[49m\u001b[43m \u001b[49m\u001b[38;5;241;43m==\u001b[39;49m\u001b[43m \u001b[49m\u001b[38;5;124;43m\"\u001b[39;49m\u001b[38;5;124;43mallow-nan\u001b[39;49m\u001b[38;5;124;43m\"\u001b[39;49m\u001b[43m,\u001b[49m\n\u001b[1;32m   1054\u001b[0m \u001b[43m    \u001b[49m\u001b[43m)\u001b[49m\n\u001b[1;32m   1056\u001b[0m \u001b[38;5;28;01mif\u001b[39;00m copy:\n\u001b[1;32m   1057\u001b[0m     \u001b[38;5;28;01mif\u001b[39;00m _is_numpy_namespace(xp):\n\u001b[1;32m   1058\u001b[0m         \u001b[38;5;66;03m# only make a copy if `array` and `array_orig` may share memory`\u001b[39;00m\n",
      "File \u001b[0;32m~/Documents/GitHub/yuttle-tracker/.venv/lib/python3.10/site-packages/sklearn/utils/validation.py:126\u001b[0m, in \u001b[0;36m_assert_all_finite\u001b[0;34m(X, allow_nan, msg_dtype, estimator_name, input_name)\u001b[0m\n\u001b[1;32m    123\u001b[0m \u001b[38;5;28;01mif\u001b[39;00m first_pass_isfinite:\n\u001b[1;32m    124\u001b[0m     \u001b[38;5;28;01mreturn\u001b[39;00m\n\u001b[0;32m--> 126\u001b[0m \u001b[43m_assert_all_finite_element_wise\u001b[49m\u001b[43m(\u001b[49m\n\u001b[1;32m    127\u001b[0m \u001b[43m    \u001b[49m\u001b[43mX\u001b[49m\u001b[43m,\u001b[49m\n\u001b[1;32m    128\u001b[0m \u001b[43m    \u001b[49m\u001b[43mxp\u001b[49m\u001b[38;5;241;43m=\u001b[39;49m\u001b[43mxp\u001b[49m\u001b[43m,\u001b[49m\n\u001b[1;32m    129\u001b[0m \u001b[43m    \u001b[49m\u001b[43mallow_nan\u001b[49m\u001b[38;5;241;43m=\u001b[39;49m\u001b[43mallow_nan\u001b[49m\u001b[43m,\u001b[49m\n\u001b[1;32m    130\u001b[0m \u001b[43m    \u001b[49m\u001b[43mmsg_dtype\u001b[49m\u001b[38;5;241;43m=\u001b[39;49m\u001b[43mmsg_dtype\u001b[49m\u001b[43m,\u001b[49m\n\u001b[1;32m    131\u001b[0m \u001b[43m    \u001b[49m\u001b[43mestimator_name\u001b[49m\u001b[38;5;241;43m=\u001b[39;49m\u001b[43mestimator_name\u001b[49m\u001b[43m,\u001b[49m\n\u001b[1;32m    132\u001b[0m \u001b[43m    \u001b[49m\u001b[43minput_name\u001b[49m\u001b[38;5;241;43m=\u001b[39;49m\u001b[43minput_name\u001b[49m\u001b[43m,\u001b[49m\n\u001b[1;32m    133\u001b[0m \u001b[43m\u001b[49m\u001b[43m)\u001b[49m\n",
      "File \u001b[0;32m~/Documents/GitHub/yuttle-tracker/.venv/lib/python3.10/site-packages/sklearn/utils/validation.py:175\u001b[0m, in \u001b[0;36m_assert_all_finite_element_wise\u001b[0;34m(X, xp, allow_nan, msg_dtype, estimator_name, input_name)\u001b[0m\n\u001b[1;32m    158\u001b[0m \u001b[38;5;28;01mif\u001b[39;00m estimator_name \u001b[38;5;129;01mand\u001b[39;00m input_name \u001b[38;5;241m==\u001b[39m \u001b[38;5;124m\"\u001b[39m\u001b[38;5;124mX\u001b[39m\u001b[38;5;124m\"\u001b[39m \u001b[38;5;129;01mand\u001b[39;00m has_nan_error:\n\u001b[1;32m    159\u001b[0m     \u001b[38;5;66;03m# Improve the error message on how to handle missing values in\u001b[39;00m\n\u001b[1;32m    160\u001b[0m     \u001b[38;5;66;03m# scikit-learn.\u001b[39;00m\n\u001b[1;32m    161\u001b[0m     msg_err \u001b[38;5;241m+\u001b[39m\u001b[38;5;241m=\u001b[39m (\n\u001b[1;32m    162\u001b[0m         \u001b[38;5;124mf\u001b[39m\u001b[38;5;124m\"\u001b[39m\u001b[38;5;130;01m\\n\u001b[39;00m\u001b[38;5;132;01m{\u001b[39;00mestimator_name\u001b[38;5;132;01m}\u001b[39;00m\u001b[38;5;124m does not accept missing values\u001b[39m\u001b[38;5;124m\"\u001b[39m\n\u001b[1;32m    163\u001b[0m         \u001b[38;5;124m\"\u001b[39m\u001b[38;5;124m encoded as NaN natively. For supervised learning, you might want\u001b[39m\u001b[38;5;124m\"\u001b[39m\n\u001b[0;32m   (...)\u001b[0m\n\u001b[1;32m    173\u001b[0m         \u001b[38;5;124m\"\u001b[39m\u001b[38;5;124m#estimators-that-handle-nan-values\u001b[39m\u001b[38;5;124m\"\u001b[39m\n\u001b[1;32m    174\u001b[0m     )\n\u001b[0;32m--> 175\u001b[0m \u001b[38;5;28;01mraise\u001b[39;00m \u001b[38;5;167;01mValueError\u001b[39;00m(msg_err)\n",
      "\u001b[0;31mValueError\u001b[0m: Input contains NaN."
     ]
    }
   ],
   "source": [
    "import numpy as np\n",
    "from sklearn.linear_model import LinearRegression\n",
    "from sklearn.multioutput import MultiOutputRegressor\n",
    "from sklearn.model_selection import train_test_split\n",
    "from sklearn.metrics import mean_squared_error\n",
    "\n",
    "# Preparing the input and output data\n",
    "X = []\n",
    "Y = []\n",
    "\n",
    "for entry in data:\n",
    "    try:\n",
    "        features = entry[:6]\n",
    "        targets = [entry[6][stop] for stop in entry[6]]\n",
    "        X.append(features)\n",
    "        Y.append(targets)\n",
    "    except Exception as e:\n",
    "        print(e)\n",
    "        print(entry)\n",
    "\n",
    "X = np.array(X)\n",
    "Y = np.array(Y)\n",
    "\n",
    "# Splitting data into training and test sets\n",
    "X_train, X_test, y_train, y_test = train_test_split(X, Y, test_size=0.2, random_state=42)\n",
    "\n",
    "# Model definition and training\n",
    "model = MultiOutputRegressor(LinearRegression())\n",
    "model.fit(X_train, y_train)\n",
    "\n",
    "# Prediction and performance evaluation\n",
    "y_pred = model.predict(X_test)\n",
    "mse = mean_squared_error(y_test, y_pred)\n",
    "print(f\"Mean Squared Error: {mse}\")\n",
    "\n",
    "# Mean Squared Error: 0.0001758471745821059\n",
    "# with setting the path percents when we set the stop:\n",
    "# Mean Squared Error: 0.024363979931588405\n",
    "# Mean Squared Error: 0.024367321812157436\n",
    "# withOUT my changes:\n",
    "# Mean Squared Error: 0.025734545215464692\n"
   ]
  },
  {
   "cell_type": "code",
   "execution_count": 8,
   "metadata": {},
   "outputs": [],
   "source": [
    "average_distance = 0\n",
    "\n",
    "for i in range(len(y_pred)):\n",
    "    for j in range(len(y_pred[i])):\n",
    "        average_distance += abs(y_pred[i][j] - y_test[i][j])\n",
    "        \n",
    "average_distance /= len(y_pred) * len(y_pred[0])"
   ]
  },
  {
   "cell_type": "code",
   "execution_count": 9,
   "metadata": {},
   "outputs": [
    {
     "name": "stdout",
     "output_type": "stream",
     "text": [
      "Average distance:  11.374115974040308\n"
     ]
    }
   ],
   "source": [
    "print(\"Average distance: \", average_distance * 60 * 11)\n",
    "\n",
    "# Average distance:  0.009394167414093641\n",
    "# Average distance:  0.07215960914735965\n"
   ]
  },
  {
   "cell_type": "code",
   "execution_count": 7,
   "metadata": {},
   "outputs": [
    {
     "name": "stdout",
     "output_type": "stream",
     "text": [
      "Predicted Arrivals: [[0.07322555 0.07815015 0.08078147 0.08724422 0.0768428  0.07998123\n",
      "  0.09964835 0.09271535 0.09242325 0.09897121 0.09879543 0.09395944\n",
      "  0.088822   0.08741855 0.08395344 0.0866678  0.08337209 0.08258474\n",
      "  0.08166951 0.08596762 0.08458978 0.0962554  0.10583898 0.10381071\n",
      "  0.10293284 0.12483189 0.09831686 0.09330589 0.08881926 0.08338567\n",
      "  0.08557544 0.06947874]]\n"
     ]
    }
   ],
   "source": [
    "# Example prediction\n",
    "example_data = np.array([[0.00414518376965307, 0.026042013301566348, 0.9996608492599883, 106, 0.00016, 4]])\n",
    "predicted_arrivals = model.predict(example_data)\n",
    "print(\"Predicted Arrivals:\", predicted_arrivals)\n",
    "\n",
    "{10: 0.04427, 2: 0.0461, 5: 0.04794, 52: 0.04824, 41: 0.05252, 20: 0.05313, 108: 0.05435, 106: 0.002, 34: 0.00443, 101: 0.00534, 47: 0.00625, 100: 0.00807, 102: 0.00928, 105: 0.01081, 69: 0.01415, 139: 0.01446, 136: 0.01538, 130: 0.01598, 129: 0.0166, 140: 0.01782, 133: 0.01964, 135: 0.02055, 138: 0.02146, 97: 0.02329, 66: 0.0242, 63: 0.02572, 42: 0.02754, 98: 0.02997, 38: 0.03028, 39: 0.03301, 72: 0.03481, 43: 0.03968}\n",
    "\n",
    "[[0.07322555 0.07815015 0.08078147 0.08724422 0.0768428  0.07998123\n",
    "  0.09964835 0.09271535 0.09242325 0.09897121 0.09879543 0.09395944\n",
    "  0.088822   0.08741855 0.08395344 0.0866678  0.08337209 0.08258474\n",
    "  0.08166951 0.08596762 0.08458978 0.0962554  0.10583898 0.10381071\n",
    "  0.10293284 0.12483189 0.09831686 0.09330589 0.08881926 0.08338567\n",
    "  0.08557544 0.06947874]]"
   ]
  },
  {
   "cell_type": "code",
   "execution_count": 18,
   "metadata": {},
   "outputs": [
    {
     "name": "stdout",
     "output_type": "stream",
     "text": [
      "{10: 0.7574379285320636, 2: 0.8100693903319043, 5: 0.8440054213568458, 52: 0.8716423053862119, 41: 0.5939719172388357, 20: 0.9561084949286741, 108: 0.9760129679929708, 106: 1.0, 34: 0.038237900811054396, 101: 0.05962329244285599, 47: 0.10745151555996796, 100: 0.1328101369610443, 102: 0.1737593212303774, 105: 0.2030971029708586, 69: 0.24730806822917184, 139: 0.2835216542743249, 136: 0.30136998545272076, 130: 0.33057193150829534, 129: 0.35416926058718823, 140: 0.3765943938182113, 133: 0.4042609751799648, 135: 0.42607808057732677, 138: 0.4518605417805998, 97: 0.4856001998816069, 66: 0.5344474411127405, 63: 0.558828997582244, 42: 0.5908789960154363, 98: 0.6298985138882538, 38: 0.663908526212489, 39: 0.677592282664344, 72: 0.7073775345450428, 43: 0.7346760880904396}\n"
     ]
    }
   ],
   "source": [
    "from utils.path_conversion import find_progress\n",
    "\n",
    "route_stops = [10, 2, 5, 52, 41, 20, 108, 106, 34, 101, 47, 100, 102, 105, 69, 139, 136, 130, 129, 140, 133, 135, 138, 97, 66, 63, 42, 98, 38, 39, 72, 43]\n",
    "\n",
    "stops_info = [{\"id\":1,\"name\":\"100 Church Street South\",\"description\":\"\",\"lat\":41.299671,\"lon\":-72.929425},{\"id\":2,\"name\":\"129 York\",\"description\":\"\",\"lat\":41.306539,\"lon\":-72.933001},{\"id\":3,\"name\":\"130 Prospect Street (N)\",\"description\":\"\",\"lat\":41.315318,\"lon\":-72.924471},{\"id\":4,\"name\":\"130 Prospect Street (S)\",\"description\":\"\",\"lat\":41.315161,\"lon\":-72.924729},{\"id\":5,\"name\":\"180 York (A&A)\",\"description\":\"\",\"lat\":41.30872,\"lon\":-72.931417},{\"id\":6,\"name\":\"205 Whitney Ave\",\"description\":\"\",\"lat\":41.316293,\"lon\":-72.920383},{\"id\":7,\"name\":\"221 Whitney (N)\",\"description\":\"\",\"lat\":41.31685,\"lon\":-72.920112},{\"id\":8,\"name\":\"300 Cedar (TAC)\",\"description\":\"\",\"lat\":41.301758,\"lon\":-72.933542},{\"id\":9,\"name\":\"300 George St\",\"description\":\"\",\"lat\":41.305166,\"lon\":-72.930745},{\"id\":10,\"name\":\"333 Cedar\",\"description\":\"\",\"lat\":41.303254,\"lon\":-72.934247},{\"id\":11,\"name\":\"344 Winchester\",\"description\":\"\",\"lat\":41.324661,\"lon\":-72.928677},{\"id\":12,\"name\":\"81 George St\",\"description\":\"\",\"lat\":41.303464,\"lon\":-72.926405},{\"id\":13,\"name\":\"Amistad / Cedar\",\"description\":\"\",\"lat\":41.300236,\"lon\":-72.932021},{\"id\":14,\"name\":\"Amistad / Church St South\",\"description\":\"\",\"lat\":41.300531,\"lon\":-72.929866},{\"id\":15,\"name\":\"Amistad Building / Garage\",\"description\":\"\",\"lat\":41.300247,\"lon\":-72.931898},{\"id\":16,\"name\":\"Amistad CSS Weekend Blue\",\"description\":\"\",\"lat\":41.300614,\"lon\":-72.929956},{\"id\":17,\"name\":\"Amistand / Cedar Weekend Blue\",\"description\":\"\",\"lat\":41.300259,\"lon\":-72.932555},{\"id\":18,\"name\":\"Ashmun / Webster\",\"description\":\"\",\"lat\":41.317455,\"lon\":-72.929469},{\"id\":19,\"name\":\"Audubon / Orange\",\"description\":\"\",\"lat\":41.311054,\"lon\":-72.920135},{\"id\":20,\"name\":\"Becton / 15 Prospect\",\"description\":\"\",\"lat\":41.312609,\"lon\":-72.925331},{\"id\":21,\"name\":\"Broadway / York\",\"description\":\"\",\"lat\":41.311002,\"lon\":-72.930344},{\"id\":22,\"name\":\"Building 400\",\"description\":\"\",\"lat\":41.255793,\"lon\":-72.993569},{\"id\":23,\"name\":\"Building 600\",\"description\":\"\",\"lat\":41.256341,\"lon\":-72.99019},{\"id\":24,\"name\":\"Building 750\",\"description\":\"\",\"lat\":41.256796,\"lon\":-72.988118},{\"id\":25,\"name\":\"Building 800\",\"description\":\"\",\"lat\":41.257929,\"lon\":-72.989021},{\"id\":26,\"name\":\"Building 900\",\"description\":\"\",\"lat\":41.260015,\"lon\":-72.986981},{\"id\":27,\"name\":\"Canal / Munson\",\"description\":\"\",\"lat\":41.321292,\"lon\":-72.929656},{\"id\":28,\"name\":\"Canner / Livingston\",\"description\":\"\",\"lat\":41.323937,\"lon\":-72.913996},{\"id\":29,\"name\":\"Canner / Whitney (N)\",\"description\":\"\",\"lat\":41.32462,\"lon\":-72.916166},{\"id\":30,\"name\":\"Chapel / Church\",\"description\":\"\",\"lat\":41.305963,\"lon\":-72.925461},{\"id\":31,\"name\":\"Chapel / College\",\"description\":\"\",\"lat\":41.30724,\"lon\":-72.928355},{\"id\":32,\"name\":\"Chapel / State Elm City Market\",\"description\":\"\",\"lat\":41.304876,\"lon\":-72.923138},{\"id\":33,\"name\":\"Chapel / York\",\"description\":\"\",\"lat\":41.30842,\"lon\":-72.931341},{\"id\":34,\"name\":\"Chemistry / 225 Prospect\",\"description\":\"\",\"lat\":41.318492,\"lon\":-72.923687},{\"id\":35,\"name\":\"Church / George\",\"description\":\"\",\"lat\":41.30342,\"lon\":-72.92784},{\"id\":36,\"name\":\"Church / Grove\",\"description\":\"\",\"lat\":41.310242,\"lon\":-72.922595},{\"id\":37,\"name\":\"Church Wall\",\"description\":\"\",\"lat\":41.309632,\"lon\":-72.923067},{\"id\":38,\"name\":\"College / Crown\",\"description\":\"\",\"lat\":41.306177,\"lon\":-72.929592},{\"id\":39,\"name\":\"College / George\",\"description\":\"\",\"lat\":41.305293,\"lon\":-72.930255},{\"id\":40,\"name\":\"College / Grove (N)\",\"description\":\"\",\"lat\":41.311805,\"lon\":-72.925425},{\"id\":41,\"name\":\"College / Wall (N)\",\"description\":\"\",\"lat\":41.310583,\"lon\":-72.926188},{\"id\":42,\"name\":\"College / Wall (S)\",\"description\":\"\",\"lat\":41.310836,\"lon\":-72.926148},{\"id\":43,\"name\":\"Congress / Cedar\",\"description\":\"\",\"lat\":41.30199,\"lon\":-72.933299},{\"id\":44,\"name\":\"Congress / Howard\",\"description\":\"\",\"lat\":41.301495,\"lon\":-72.935029},{\"id\":45,\"name\":\"Court / Olive\",\"description\":\"\",\"lat\":41.305197,\"lon\":-72.920117},{\"id\":46,\"name\":\"Davenport / Howard\",\"description\":\"\",\"lat\":41.303096,\"lon\":-72.936589},{\"id\":47,\"name\":\"Divinity / 409 Prospect\",\"description\":\"\",\"lat\":41.323538,\"lon\":-72.923285},{\"id\":48,\"name\":\"Division / Prospect\",\"description\":\"\",\"lat\":41.324769,\"lon\":-72.923522},{\"id\":49,\"name\":\"Division / Sheffield\",\"description\":\"\",\"lat\":41.325324,\"lon\":-72.926572},{\"id\":50,\"name\":\"Edwards / Orange\",\"description\":\"\",\"lat\":41.318086,\"lon\":-72.914395},{\"id\":51,\"name\":\"Elm / High\",\"description\":\"\",\"lat\":41.310194,\"lon\":-72.928972},{\"id\":52,\"name\":\"Elm / York\",\"description\":\"\",\"lat\":41.31049,\"lon\":-72.930123},{\"id\":53,\"name\":\"Elm / York (TYCO)\",\"description\":\"\",\"lat\":41.311005,\"lon\":-72.930893},{\"id\":54,\"name\":\"Elm College\",\"description\":\"\",\"lat\":41.309579,\"lon\":-72.927476},{\"id\":55,\"name\":\"Foster / Avon\",\"description\":\"\",\"lat\":41.319738,\"lon\":-72.910418},{\"id\":56,\"name\":\"Foster / Cottage\",\"description\":\"\",\"lat\":41.318998,\"lon\":-72.910985},{\"id\":57,\"name\":\"Foster / Edwards\",\"description\":\"\",\"lat\":41.317265,\"lon\":-72.912309},{\"id\":58,\"name\":\"Foster / Lawrence\",\"description\":\"\",\"lat\":41.318154,\"lon\":-72.911633},{\"id\":59,\"name\":\"Front / Rt 1 (N)\",\"description\":\"\",\"lat\":41.296105,\"lon\":-72.955812},{\"id\":60,\"name\":\"Front / Rt 1 (S)\",\"description\":\"\",\"lat\":41.296071,\"lon\":-72.955927},{\"id\":61,\"name\":\"Front Street South\",\"description\":\"\",\"lat\":41.296158,\"lon\":-72.956009},{\"id\":62,\"name\":\"Grove / College\",\"description\":\"\",\"lat\":41.311698,\"lon\":-72.925318},{\"id\":63,\"name\":\"Grove / Temple\",\"description\":\"\",\"lat\":41.311134,\"lon\":-72.924022},{\"id\":64,\"name\":\"Grove / Whitney\",\"description\":\"\",\"lat\":41.310421,\"lon\":-72.922331},{\"id\":65,\"name\":\"Grove and Hillhouse\",\"description\":\"\",\"lat\":41.311218,\"lon\":-72.924262},{\"id\":66,\"name\":\"Helen Hadley Hall\",\"description\":\"\",\"lat\":41.312459,\"lon\":-72.922824},{\"id\":67,\"name\":\"Wall / York\",\"description\":\"\",\"lat\":41.312102,\"lon\":-72.928948},{\"id\":68,\"name\":\"Humphrey / Orange\",\"description\":\"\",\"lat\":41.316218,\"lon\":-72.916544},{\"id\":69,\"name\":\"Huntington / Edgehill (E)\",\"description\":\"\",\"lat\":41.329965,\"lon\":-72.917606},{\"id\":70,\"name\":\"Huntington / Edgehill (W)\",\"description\":\"\",\"lat\":41.330004,\"lon\":-72.917272},{\"id\":71,\"name\":\"Lanman\",\"description\":\"\",\"lat\":41.314967,\"lon\":-72.929998},{\"id\":72,\"name\":\"LEPH / 60 College\",\"description\":\"\",\"lat\":41.303422,\"lon\":-72.931698},{\"id\":73,\"name\":\"Library Walk\",\"description\":\"\",\"lat\":41.309479,\"lon\":-72.930752},{\"id\":74,\"name\":\"Lot 22 - Whitney / Humphrey\",\"description\":\"\",\"lat\":41.317907,\"lon\":-72.920416},{\"id\":75,\"name\":\"Olive / Chapel\",\"description\":\"\",\"lat\":41.304125,\"lon\":-72.920274},{\"id\":76,\"name\":\"Orange / Audobon\",\"description\":\"\",\"lat\":41.310923,\"lon\":-72.920191},{\"id\":77,\"name\":\"Orange / Avon\",\"description\":\"\",\"lat\":41.320428,\"lon\":-72.912916},{\"id\":78,\"name\":\"Orange / Bishop (N)\",\"description\":\"\",\"lat\":41.316978,\"lon\":-72.915521},{\"id\":79,\"name\":\"Orange / Bishop (S)\",\"description\":\"\",\"lat\":41.317355,\"lon\":-72.915423},{\"id\":80,\"name\":\"Orange / Bradley (N)\",\"description\":\"\",\"lat\":41.31298,\"lon\":-72.918548},{\"id\":81,\"name\":\"Orange / Bradley (S)\",\"description\":\"\",\"lat\":41.313013,\"lon\":-72.918668},{\"id\":82,\"name\":\"Orange / Canner\",\"description\":\"\",\"lat\":41.323303,\"lon\":-72.910898},{\"id\":83,\"name\":\"Orange / Cottage\",\"description\":\"\",\"lat\":41.320062,\"lon\":-72.913347},{\"id\":84,\"name\":\"Orange / Edwards (N)\",\"description\":\"\",\"lat\":41.317957,\"lon\":-72.914793},{\"id\":85,\"name\":\"Orange / Edwards (S)\",\"description\":\"\",\"lat\":41.318385,\"lon\":-72.914615},{\"id\":86,\"name\":\"Orange / Grove\",\"description\":\"\",\"lat\":41.310003,\"lon\":-72.920939},{\"id\":87,\"name\":\"Orange / Humphrey (N)\",\"description\":\"\",\"lat\":41.315906,\"lon\":-72.916327},{\"id\":88,\"name\":\"Orange / Humphrey (S)\",\"description\":\"\",\"lat\":41.316338,\"lon\":-72.916176},{\"id\":89,\"name\":\"Orange / Lawrence (N)\",\"description\":\"\",\"lat\":41.31883,\"lon\":-72.91412},{\"id\":90,\"name\":\"Orange / Lawrence (S)\",\"description\":\"\",\"lat\":41.319282,\"lon\":-72.913902},{\"id\":91,\"name\":\"Orange / Pearl (N)\",\"description\":\"\",\"lat\":41.314515,\"lon\":-72.917391},{\"id\":92,\"name\":\"Orange / Pearl (S)\",\"description\":\"\",\"lat\":41.314826,\"lon\":-72.917319},{\"id\":93,\"name\":\"Orange / Trumbull\",\"description\":\"\",\"lat\":41.312323,\"lon\":-72.919177},{\"id\":94,\"name\":\"Orange / Willow (N)\",\"description\":\"\",\"lat\":41.321894,\"lon\":-72.911811},{\"id\":95,\"name\":\"Orange / Willow (S)\",\"description\":\"\",\"lat\":41.32224,\"lon\":-72.911692},{\"id\":96,\"name\":\"Payne Whitney Gym\",\"description\":\"\",\"lat\":41.313444,\"lon\":-72.930694},{\"id\":97,\"name\":\"Peabody Museum / Whitney / Sachem\",\"description\":\"\",\"lat\":41.315675,\"lon\":-72.920859},{\"id\":98,\"name\":\"Phelps Gate\",\"description\":\"\",\"lat\":41.308356,\"lon\":-72.927978},{\"id\":99,\"name\":\"Pierson Sage Garage\",\"description\":\"\",\"lat\":41.319394,\"lon\":-72.919091},{\"id\":100,\"name\":\"Prospect / Canner\",\"description\":\"\",\"lat\":41.325351,\"lon\":-72.922891},{\"id\":101,\"name\":\"Prospect / Edwards\",\"description\":\"\",\"lat\":41.320038,\"lon\":-72.923299},{\"id\":102,\"name\":\"Prospect / Highland (N)\",\"description\":\"\",\"lat\":41.328261,\"lon\":-72.921951},{\"id\":103,\"name\":\"Prospect / Highland (S)\",\"description\":\"\",\"lat\":41.328269,\"lon\":-72.92208},{\"id\":104,\"name\":\"Prospect / Hillside\",\"description\":\"\",\"lat\":41.321076,\"lon\":-72.923422},{\"id\":105,\"name\":\"Prospect / Huntington\",\"description\":\"\",\"lat\":41.330366,\"lon\":-72.921482},{\"id\":106,\"name\":\"Prospect / Sachem (N)\",\"description\":\"\",\"lat\":41.315749,\"lon\":-72.924393},{\"id\":107,\"name\":\"Prospect / Sachem (S)\",\"description\":\"\",\"lat\":41.315795,\"lon\":-72.924541},{\"id\":108,\"name\":\"Prospect / Trumbull\",\"description\":\"\",\"lat\":41.314021,\"lon\":-72.924894},{\"id\":109,\"name\":\"Quigley Stadium Inbound\",\"description\":\"\",\"lat\":41.293932,\"lon\":-72.955238},{\"id\":110,\"name\":\"Quigley Stadium Outbound\",\"description\":\"\",\"lat\":41.293438,\"lon\":-72.954994},{\"id\":111,\"name\":\"Sachem / Whitney\",\"description\":\"\",\"lat\":41.315444,\"lon\":-72.921229},{\"id\":112,\"name\":\"Sachem / Winchester\",\"description\":\"\",\"lat\":41.316387,\"lon\":-72.92649},{\"id\":113,\"name\":\"SCL\",\"description\":\"\",\"lat\":41.318189,\"lon\":-72.923912},{\"id\":114,\"name\":\"SOM\",\"description\":\"\",\"lat\":41.315224,\"lon\":-72.920887},{\"id\":115,\"name\":\"State St Station\",\"description\":\"\",\"lat\":41.30519,\"lon\":-72.922331},{\"id\":116,\"name\":\"Stop & Shop\",\"description\":\"\",\"lat\":41.315041,\"lon\":-72.938202},{\"id\":117,\"name\":\"Gilbert / Cedar\",\"description\":\"\",\"lat\":41.301613,\"lon\":-72.933459},{\"id\":118,\"name\":\"Temple / Grove\",\"description\":\"\",\"lat\":41.311184,\"lon\":-72.923753},{\"id\":119,\"name\":\"Trader Joe's\",\"description\":\"\",\"lat\":41.251375,\"lon\":-73.018082},{\"id\":120,\"name\":\"Trumbull / Hillhouse\",\"description\":\"\",\"lat\":41.3135,\"lon\":-72.923286},{\"id\":121,\"name\":\"Union Station (N)\",\"description\":\"\",\"lat\":41.297857,\"lon\":-72.926763},{\"id\":122,\"name\":\"Union Station (S)\",\"description\":\"\",\"lat\":41.297929,\"lon\":-72.926912},{\"id\":123,\"name\":\"VA Entrance Inbound\",\"description\":\"\",\"lat\":41.284966,\"lon\":-72.958144},{\"id\":124,\"name\":\"VA Entrance Outbound\",\"description\":\"\",\"lat\":41.284845,\"lon\":-72.957845},{\"id\":125,\"name\":\"VA Hospital\",\"description\":\"\",\"lat\":41.281934,\"lon\":-72.96194},{\"id\":126,\"name\":\"Wall / Church\",\"description\":\"\",\"lat\":41.309552,\"lon\":-72.923477},{\"id\":127,\"name\":\"West Haven Train Station\",\"description\":\"\",\"lat\":41.271172,\"lon\":-72.963517},{\"id\":128,\"name\":\"Whitney / Audubon\",\"description\":\"\",\"lat\":41.311557,\"lon\":-72.922197},{\"id\":129,\"name\":\"Whitney / Canner\",\"description\":\"\",\"lat\":41.324692,\"lon\":-72.916817},{\"id\":130,\"name\":\"Whitney / Cold Spring (S)\",\"description\":\"\",\"lat\":41.326294,\"lon\":-72.915854},{\"id\":131,\"name\":\"Whitney / Cold Springs (N)\",\"description\":\"\",\"lat\":41.325918,\"lon\":-72.915845},{\"id\":132,\"name\":\"Whitney / Cottage (N)\",\"description\":\"\",\"lat\":41.321181,\"lon\":-72.918038},{\"id\":133,\"name\":\"Whitney / Cottage (S)\",\"description\":\"\",\"lat\":41.321281,\"lon\":-72.918194},{\"id\":134,\"name\":\"Whitney / Edwards (N)\",\"description\":\"\",\"lat\":41.31976,\"lon\":-72.918722},{\"id\":135,\"name\":\"Whitney / Edwards (S)\",\"description\":\"\",\"lat\":41.319793,\"lon\":-72.918903},{\"id\":136,\"name\":\"Whitney / Highland\",\"description\":\"\",\"lat\":41.328281,\"lon\":-72.914879},{\"id\":137,\"name\":\"Whitney / Humphrey (N)\",\"description\":\"\",\"lat\":41.317542,\"lon\":-72.919779},{\"id\":138,\"name\":\"Whitney / Humphrey (S)\",\"description\":\"\",\"lat\":41.318019,\"lon\":-72.919756},{\"id\":139,\"name\":\"Whitney / Huntington\",\"description\":\"\",\"lat\":41.329605,\"lon\":-72.914275},{\"id\":140,\"name\":\"Whitney / Linden\",\"description\":\"\",\"lat\":41.323205,\"lon\":-72.917287},{\"id\":141,\"name\":\"Whitney / Trumbull\",\"description\":\"\",\"lat\":41.313259,\"lon\":-72.92169},{\"id\":142,\"name\":\"Willow / Foster\",\"description\":\"\",\"lat\":41.321121,\"lon\":-72.909616},{\"id\":143,\"name\":\"Willow / Livingston\",\"description\":\"\",\"lat\":41.32299,\"lon\":-72.913872},{\"id\":144,\"name\":\"Willow / Whitney\",\"description\":\"\",\"lat\":41.323779,\"lon\":-72.916575},{\"id\":145,\"name\":\"Science Park Garage\",\"description\":\"\",\"lat\":41.323328,\"lon\":-72.928795},{\"id\":146,\"name\":\"Winchester / Division\",\"description\":\"\",\"lat\":41.325379,\"lon\":-72.92774},{\"id\":147,\"name\":\"Winchester / Sachem\",\"description\":\"\",\"lat\":41.316131,\"lon\":-72.926506},{\"id\":148,\"name\":\"Winchester / Woodland\",\"description\":\"\",\"lat\":41.319277,\"lon\":-72.927761},{\"id\":149,\"name\":\"York / Cedar\",\"description\":\"\",\"lat\":41.303784,\"lon\":-72.935017},{\"id\":150,\"name\":\"York / Chapel\",\"description\":\"\",\"lat\":41.308511,\"lon\":-72.931505},{\"id\":151,\"name\":\"York / Crown\",\"description\":\"\",\"lat\":41.30702,\"lon\":-72.93265}]\n",
    "\n",
    "# def find_progress(lat, lon, points=points, distances=distances, total_distance=total_distances):\n",
    "\n",
    "route_stops_dict = {}\n",
    "\n",
    "for stop in route_stops:\n",
    "    for stop_info in stops_info:\n",
    "        if stop_info['id'] == stop:\n",
    "            progress_of_stop, _ = find_progress(stop_info['lat'], stop_info['lon'])\n",
    "            route_stops_dict[stop] = progress_of_stop\n",
    "            break\n",
    "    \n",
    "print(route_stops_dict)"
   ]
  },
  {
   "cell_type": "code",
   "execution_count": null,
   "metadata": {},
   "outputs": [],
   "source": [
    "if 0.56 - 0.5908789960154363 - 0.62\n",
    "\n",
    "0.88 - 0.91 - 0.94"
   ]
  }
 ],
 "metadata": {
  "kernelspec": {
   "display_name": ".venv",
   "language": "python",
   "name": "python3"
  },
  "language_info": {
   "codemirror_mode": {
    "name": "ipython",
    "version": 3
   },
   "file_extension": ".py",
   "mimetype": "text/x-python",
   "name": "python",
   "nbconvert_exporter": "python",
   "pygments_lexer": "ipython3",
   "version": "3.10.0"
  }
 },
 "nbformat": 4,
 "nbformat_minor": 2
}
